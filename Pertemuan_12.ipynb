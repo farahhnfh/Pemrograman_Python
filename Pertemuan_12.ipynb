{
  "nbformat": 4,
  "nbformat_minor": 0,
  "metadata": {
    "colab": {
      "name": "Pertemuan 12.ipynb",
      "provenance": [],
      "collapsed_sections": [],
      "authorship_tag": "ABX9TyOVtSmad7ljaRahQvxwv5zZ",
      "include_colab_link": true
    },
    "kernelspec": {
      "name": "python3",
      "display_name": "Python 3"
    }
  },
  "cells": [
    {
      "cell_type": "markdown",
      "metadata": {
        "id": "view-in-github",
        "colab_type": "text"
      },
      "source": [
        "<a href=\"https://colab.research.google.com/github/farahhnfh/Pemrograman_Python/blob/main/Pertemuan_12.ipynb\" target=\"_parent\"><img src=\"https://colab.research.google.com/assets/colab-badge.svg\" alt=\"Open In Colab\"/></a>"
      ]
    },
    {
      "cell_type": "code",
      "metadata": {
        "colab": {
          "base_uri": "https://localhost:8080/"
        },
        "id": "AUVBhrUvb_u7",
        "outputId": "56306747-ff75-4011-fa12-8c6b2fd8425c"
      },
      "source": [
        "d = int(input(\"Masukkan jarak dalam kilometer: \"))\r\n",
        "fc = int(input(\"Masukkan frekuensi 150 MHz-2000 MHz: \"))\r\n",
        "area = input (\"Masukan tipe area: \")\r\n",
        "hT = int(input(\"Masukkan tinggi antena pemancar 30-200 meter: \"))\r\n",
        "hR = int(input(\"Masukkan tinggi antena penerima 1-30 meter: \"))"
      ],
      "execution_count": 1,
      "outputs": [
        {
          "output_type": "stream",
          "text": [
            "Masukkan jarak dalam kilometer: 154\n",
            "Masukkan frekuensi 150 MHz-2000 MHz: 600\n",
            "Masukan tipe area: urban\n",
            "Masukkan tinggi antena pemancar 30-200 meter: 40\n",
            "Masukkan tinggi antena penerima 1-30 meter: 20\n"
          ],
          "name": "stdout"
        }
      ]
    },
    {
      "cell_type": "code",
      "metadata": {
        "id": "zKLu0d_qwdZW"
      },
      "source": [
        "import numpy as np"
      ],
      "execution_count": 2,
      "outputs": []
    },
    {
      "cell_type": "code",
      "metadata": {
        "id": "TkdAC3gErmD0"
      },
      "source": [
        "# nilai c1\r\n",
        "def c1(f):\r\n",
        "  if f >= 400 and f <=1500:\r\n",
        "    return 69.55\r\n",
        "  elif f > 1500 and f <= 2000:\r\n",
        "    return 46.3\r\n"
      ],
      "execution_count": 3,
      "outputs": []
    },
    {
      "cell_type": "code",
      "metadata": {
        "id": "Rzs1WvYesseP"
      },
      "source": [
        "# nilai c2\r\n",
        "def c2(f):\r\n",
        "  if f >= 400 and f <= 1500:\r\n",
        "    return 26.16\r\n",
        "  elif f > 1500 and f <= 2000:\r\n",
        "    return 33.9"
      ],
      "execution_count": 4,
      "outputs": []
    },
    {
      "cell_type": "code",
      "metadata": {
        "id": "qvLqOS3ktFXT"
      },
      "source": [
        "# mencari nilai a\r\n",
        "def a(hR,f):\r\n",
        "  return (((1.1*np.log10(f))-0.7)*hR)-((1.56*np.log10(f))-0.8)"
      ],
      "execution_count": 5,
      "outputs": []
    },
    {
      "cell_type": "code",
      "metadata": {
        "id": "hdBv7m00aFjL"
      },
      "source": [
        "# Menetukan daerah\r\n",
        "def cm(area,fc):\r\n",
        "  if area == \"urban\":\r\n",
        "    return 0\r\n",
        "  elif area == \"suburban\" :\r\n",
        "    return (-2*((np.log10(fc/28))**2))-54\r\n",
        "  else :\r\n",
        "    return (-4.78*((np.log10(fc))**2))+(18.33*np.log10(fc))-40.94\r\n",
        "    "
      ],
      "execution_count": 6,
      "outputs": []
    },
    {
      "cell_type": "code",
      "metadata": {
        "id": "dkGY9ANlbACJ"
      },
      "source": [
        "#mencari PalthLoss\r\n",
        "PL = c1(fc)+(c2(fc)*np.log10(fc))-(13.83*np.log10(hT))-a(hR, fc)+((44.9-(6.55*np.log10(hT)))*np.log10(d))+cm(area, fc)"
      ],
      "execution_count": 7,
      "outputs": []
    },
    {
      "cell_type": "code",
      "metadata": {
        "colab": {
          "base_uri": "https://localhost:8080/"
        },
        "id": "zrn1m7zAbovF",
        "outputId": "215c184c-768d-4fd3-bfc4-0bee16707030"
      },
      "source": [
        "print(\"Pathloss adalah:  \", PL, \"db\")"
      ],
      "execution_count": 8,
      "outputs": [
        {
          "output_type": "stream",
          "text": [
            "Pathloss adalah:   151.74948259048875 db\n"
          ],
          "name": "stdout"
        }
      ]
    },
    {
      "cell_type": "code",
      "metadata": {
        "id": "uRdGTG6xcdX-"
      },
      "source": [
        ""
      ],
      "execution_count": null,
      "outputs": []
    }
  ]
}